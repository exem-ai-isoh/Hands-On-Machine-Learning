{
  "nbformat": 4,
  "nbformat_minor": 0,
  "metadata": {
    "colab": {
      "name": "support_vector_machines.ipynb",
      "provenance": [],
      "authorship_tag": "ABX9TyObN37A7Af8wCdlnj6GAhGA",
      "include_colab_link": true
    },
    "kernelspec": {
      "name": "python3",
      "display_name": "Python 3"
    },
    "language_info": {
      "name": "python"
    }
  },
  "cells": [
    {
      "cell_type": "markdown",
      "metadata": {
        "id": "view-in-github",
        "colab_type": "text"
      },
      "source": [
        "<a href=\"https://colab.research.google.com/github/exem-ai-isoh/Hands-On-Machine-Learning/blob/master/support_vector_machines.ipynb\" target=\"_parent\"><img src=\"https://colab.research.google.com/assets/colab-badge.svg\" alt=\"Open In Colab\"/></a>"
      ]
    },
    {
      "cell_type": "markdown",
      "source": [
        "- 서포트 벡터의 아이디어\n",
        "\n",
        "서포트 벡터 머신의 근본적인 아이디어는 클래스 사이에 가능한 한 넓은 '도로'를 내는 것입니다. 다시 말해 두 클래스를 구분하는 결정 경계와 샘플 사이의 마진을 가능한 한 크게 하는 것이 목적입니다. 소프트 마진 분류를 할 때 SVM은 두 클래스를 완전히 나누는 것과 가장 넓은 도로를 내는 것 사이에서 절충안을 찾습니다. 모든 샘플이 올바르게 분류되어 있다면 하드 마진 분류라고 합니다. 하드마진분류는 이상치에 민감하게 반응합니다.  \n",
        "\n",
        "SVM 회귀의 경우 도로 안에 가능한 한 많은 샘플이 들어가도록 학습합니다. 도로의 폭은 하이퍼파라미터로 조절합니다."
      ],
      "metadata": {
        "id": "cAlyKFFpulE2"
      }
    },
    {
      "cell_type": "markdown",
      "source": [
        "- 서포트 벡터란?\n",
        "\n",
        "서포트 벡터는 SVM이 훈련된 후에 경계를 포함해 도로에 놓인 어떤 샘플입니다. 결정경계는 서포트 벡터만이 영향을 줄 수 있으며 서포트 벡터가 아닌 샘플은 결정경계에 영향을 줄 수 없습니다."
      ],
      "metadata": {
        "id": "ILkohS60w3ls"
      }
    },
    {
      "cell_type": "markdown",
      "source": [
        "- 서포트 벡터 이용시 주의사항\n",
        "\n",
        "SVM은 가능한 큰 도로를 찾는 것이므로 스케일이 맞지 않을 경우 작은 특성을 무시하는 경향이 있습니다."
      ],
      "metadata": {
        "id": "kL905a3Jxv4p"
      }
    },
    {
      "cell_type": "code",
      "execution_count": 2,
      "metadata": {
        "id": "Z7AAPY09ucBM"
      },
      "outputs": [],
      "source": [
        "# (although Python 2.x may work, it is deprecated so we strongly recommend you use Python 3 instead), as well as Scikit-Learn ≥0.20.\n",
        "\n",
        "# Python ≥3.5 is required\n",
        "import sys\n",
        "assert sys.version_info >= (3, 5)\n",
        "\n",
        "# Scikit-Learn ≥0.20 is required\n",
        "import sklearn\n",
        "assert sklearn.__version__ >= \"0.20\"\n",
        "\n",
        "# Common imports\n",
        "import numpy as np\n",
        "import os\n",
        "\n",
        "# to make this notebook's output stable across runs\n",
        "np.random.seed(42)\n",
        "\n",
        "# To plot pretty figures\n",
        "%matplotlib inline\n",
        "import matplotlib as mpl\n",
        "import matplotlib.pyplot as plt\n",
        "mpl.rc('axes', labelsize=14)\n",
        "mpl.rc('xtick', labelsize=12)\n",
        "mpl.rc('ytick', labelsize=12)\n",
        "\n",
        "# Where to save the figures\n",
        "PROJECT_ROOT_DIR = \".\"\n",
        "CHAPTER_ID = \"svm\"\n",
        "IMAGES_PATH = os.path.join(PROJECT_ROOT_DIR, \"images\", CHAPTER_ID)\n",
        "os.makedirs(IMAGES_PATH, exist_ok=True)\n",
        "\n",
        "def save_fig(fig_id, tight_layout=True, fig_extension=\"png\", resolution=300):\n",
        "    path = os.path.join(IMAGES_PATH, fig_id + \".\" + fig_extension)\n",
        "    print(\"Saving figure\", fig_id)\n",
        "    if tight_layout:\n",
        "        plt.tight_layout()\n",
        "    plt.savefig(path, format=fig_extension, dpi=resolution)"
      ]
    },
    {
      "cell_type": "markdown",
      "source": [
        "캘리포니아 주택 가격 데이터셋에 SVM 회귀를 훈련시켜보자."
      ],
      "metadata": {
        "id": "EA89xldf2vPc"
      }
    },
    {
      "cell_type": "code",
      "source": [
        "# data load\n",
        "from sklearn.datasets import fetch_california_housing\n",
        "\n",
        "housing = fetch_california_housing()\n",
        "X = housing[\"data\"]\n",
        "y = housing[\"target\"]"
      ],
      "metadata": {
        "id": "dbOxdpsy2foB"
      },
      "execution_count": 3,
      "outputs": []
    },
    {
      "cell_type": "code",
      "source": [
        "# data split\n",
        "from sklearn.model_selection import train_test_split\n",
        "\n",
        "X_train, X_test, y_train, y_test = train_test_split(X, y, test_size=0.2, random_state=42)"
      ],
      "metadata": {
        "id": "jzfhTGMT23KQ"
      },
      "execution_count": 6,
      "outputs": []
    },
    {
      "cell_type": "code",
      "source": [
        "# scale\n",
        "from sklearn.preprocessing import StandardScaler\n",
        "\n",
        "scaler = StandardScaler()\n",
        "X_train_scaled = scaler.fit_transform(X_train)\n",
        "X_test_scaled = scaler.transform(X_test)"
      ],
      "metadata": {
        "id": "Ios0pMx6246g"
      },
      "execution_count": 7,
      "outputs": []
    },
    {
      "cell_type": "code",
      "source": [
        "# train by LinearSVR \n",
        "from sklearn.svm import LinearSVR\n",
        "\n",
        "lin_svr = LinearSVR(random_state=42)\n",
        "lin_svr.fit(X_train_scaled, y_train)"
      ],
      "metadata": {
        "colab": {
          "base_uri": "https://localhost:8080/"
        },
        "id": "c-YetqwN3T_f",
        "outputId": "98fc68fe-a071-49b2-91c6-7f3ab711b169"
      },
      "execution_count": 8,
      "outputs": [
        {
          "output_type": "stream",
          "name": "stderr",
          "text": [
            "/usr/local/lib/python3.7/dist-packages/sklearn/svm/_base.py:1208: ConvergenceWarning: Liblinear failed to converge, increase the number of iterations.\n",
            "  ConvergenceWarning,\n"
          ]
        },
        {
          "output_type": "execute_result",
          "data": {
            "text/plain": [
              "LinearSVR(random_state=42)"
            ]
          },
          "metadata": {},
          "execution_count": 8
        }
      ]
    },
    {
      "cell_type": "code",
      "source": [
        "# trainset에서 performance\n",
        "from sklearn.metrics import mean_squared_error\n",
        "\n",
        "y_pred = lin_svr.predict(X_train_scaled)\n",
        "mse = mean_squared_error(y_train, y_pred)\n",
        "mse"
      ],
      "metadata": {
        "colab": {
          "base_uri": "https://localhost:8080/"
        },
        "id": "hAcuCbpL3VyP",
        "outputId": "0caa8411-7432-42f2-fb02-0914e4e53d85"
      },
      "execution_count": 9,
      "outputs": [
        {
          "output_type": "execute_result",
          "data": {
            "text/plain": [
              "0.9641780189948642"
            ]
          },
          "metadata": {},
          "execution_count": 9
        }
      ]
    },
    {
      "cell_type": "code",
      "source": [
        "# RMSE\n",
        "np.sqrt(mse)"
      ],
      "metadata": {
        "colab": {
          "base_uri": "https://localhost:8080/"
        },
        "id": "IwEcrRSu4M4I",
        "outputId": "104117c8-b8ad-4144-8f2e-4f446251f8e4"
      },
      "execution_count": 10,
      "outputs": [
        {
          "output_type": "execute_result",
          "data": {
            "text/plain": [
              "0.9819256687727764"
            ]
          },
          "metadata": {},
          "execution_count": 10
        }
      ]
    },
    {
      "cell_type": "markdown",
      "source": [
        "use randomized search with cross validation to find the appropriate hyperparameter values for C and gamma"
      ],
      "metadata": {
        "id": "tHMOinEp5xcl"
      }
    },
    {
      "cell_type": "code",
      "source": [
        "from sklearn.svm import SVR\n",
        "from sklearn.model_selection import RandomizedSearchCV\n",
        "from scipy.stats import reciprocal, uniform # reciprocal : 역수\n",
        "\n",
        "param_distributions = {\"gamma\": reciprocal(0.001, 0.1), \"C\": uniform(1, 10)}\n",
        "rnd_search_cv = RandomizedSearchCV(SVR(), param_distributions, n_iter=10, verbose=2, cv=3, random_state=42)\n",
        "rnd_search_cv.fit(X_train_scaled, y_train)"
      ],
      "metadata": {
        "colab": {
          "base_uri": "https://localhost:8080/"
        },
        "id": "-QdKLp0u4ON_",
        "outputId": "4b9718a5-01d1-4e0d-9a1f-96b95dc82654"
      },
      "execution_count": 11,
      "outputs": [
        {
          "output_type": "stream",
          "name": "stdout",
          "text": [
            "Fitting 3 folds for each of 10 candidates, totalling 30 fits\n",
            "[CV] END .....C=4.745401188473625, gamma=0.07969454818643928; total time=  13.1s\n",
            "[CV] END .....C=4.745401188473625, gamma=0.07969454818643928; total time=  10.4s\n",
            "[CV] END .....C=4.745401188473625, gamma=0.07969454818643928; total time=  11.6s\n",
            "[CV] END .....C=8.31993941811405, gamma=0.015751320499779724; total time=  10.1s\n",
            "[CV] END .....C=8.31993941811405, gamma=0.015751320499779724; total time=  13.3s\n",
            "[CV] END .....C=8.31993941811405, gamma=0.015751320499779724; total time=  10.1s\n",
            "[CV] END ....C=2.560186404424365, gamma=0.002051110418843397; total time=   9.6s\n",
            "[CV] END ....C=2.560186404424365, gamma=0.002051110418843397; total time=  13.9s\n",
            "[CV] END ....C=2.560186404424365, gamma=0.002051110418843397; total time=  12.9s\n",
            "[CV] END ....C=1.5808361216819946, gamma=0.05399484409787431; total time=  10.9s\n",
            "[CV] END ....C=1.5808361216819946, gamma=0.05399484409787431; total time=  10.0s\n",
            "[CV] END ....C=1.5808361216819946, gamma=0.05399484409787431; total time=  11.6s\n",
            "[CV] END ....C=7.011150117432088, gamma=0.026070247583707663; total time=  14.2s\n",
            "[CV] END ....C=7.011150117432088, gamma=0.026070247583707663; total time=  13.9s\n",
            "[CV] END ....C=7.011150117432088, gamma=0.026070247583707663; total time=  10.2s\n",
            "[CV] END .....C=1.2058449429580245, gamma=0.0870602087830485; total time=  10.9s\n",
            "[CV] END .....C=1.2058449429580245, gamma=0.0870602087830485; total time=  16.2s\n",
            "[CV] END .....C=1.2058449429580245, gamma=0.0870602087830485; total time=   9.4s\n",
            "[CV] END ...C=9.324426408004218, gamma=0.0026587543983272693; total time=   9.8s\n",
            "[CV] END ...C=9.324426408004218, gamma=0.0026587543983272693; total time=   9.7s\n",
            "[CV] END ...C=9.324426408004218, gamma=0.0026587543983272693; total time=   9.7s\n",
            "[CV] END ...C=2.818249672071006, gamma=0.0023270677083837795; total time=   9.6s\n",
            "[CV] END ...C=2.818249672071006, gamma=0.0023270677083837795; total time=  10.1s\n",
            "[CV] END ...C=2.818249672071006, gamma=0.0023270677083837795; total time=   9.6s\n",
            "[CV] END ....C=4.042422429595377, gamma=0.011207606211860567; total time=   9.6s\n",
            "[CV] END ....C=4.042422429595377, gamma=0.011207606211860567; total time=   9.6s\n",
            "[CV] END ....C=4.042422429595377, gamma=0.011207606211860567; total time=  10.1s\n",
            "[CV] END ....C=5.319450186421157, gamma=0.003823475224675185; total time=   9.5s\n",
            "[CV] END ....C=5.319450186421157, gamma=0.003823475224675185; total time=   9.7s\n",
            "[CV] END ....C=5.319450186421157, gamma=0.003823475224675185; total time=   9.7s\n"
          ]
        },
        {
          "output_type": "execute_result",
          "data": {
            "text/plain": [
              "RandomizedSearchCV(cv=3, estimator=SVR(),\n",
              "                   param_distributions={'C': <scipy.stats._distn_infrastructure.rv_frozen object at 0x7fd818e610d0>,\n",
              "                                        'gamma': <scipy.stats._distn_infrastructure.rv_frozen object at 0x7fd818e613d0>},\n",
              "                   random_state=42, verbose=2)"
            ]
          },
          "metadata": {},
          "execution_count": 11
        }
      ]
    },
    {
      "cell_type": "code",
      "source": [
        "# best parameter\n",
        "rnd_search_cv.best_estimator_"
      ],
      "metadata": {
        "colab": {
          "base_uri": "https://localhost:8080/"
        },
        "id": "0vXJydP46h8I",
        "outputId": "6b0e7907-0c22-4a04-c178-f7d32e744c84"
      },
      "execution_count": 12,
      "outputs": [
        {
          "output_type": "execute_result",
          "data": {
            "text/plain": [
              "SVR(C=4.745401188473625, gamma=0.07969454818643928)"
            ]
          },
          "metadata": {},
          "execution_count": 12
        }
      ]
    },
    {
      "cell_type": "code",
      "source": [
        "# performance after tuning\n",
        "\n",
        "y_pred = rnd_search_cv.best_estimator_.predict(X_train_scaled)\n",
        "mse = mean_squared_error(y_train, y_pred)\n",
        "np.sqrt(mse)"
      ],
      "metadata": {
        "colab": {
          "base_uri": "https://localhost:8080/"
        },
        "id": "Yr37faxq7Ek3",
        "outputId": "f9e836ff-471c-4f6e-b0e4-00bf3e599255"
      },
      "execution_count": 13,
      "outputs": [
        {
          "output_type": "execute_result",
          "data": {
            "text/plain": [
              "0.5727524770785356"
            ]
          },
          "metadata": {},
          "execution_count": 13
        }
      ]
    },
    {
      "cell_type": "markdown",
      "source": [
        "비선형 분류\n",
        "\n",
        "- 다항식 커널 : 다항식 특성을 추가한 것.\n",
        "- 유사도 특성 추가 : 각 샘플의 특정 랜드마크와 닮았는지 측정\n",
        "- 가우시안 RBF 커널 : 유사도 특성을 많이 추가하는 것과 비슷한 결과를 실제로 특성을 추가하지 않고도 얻을 수 있습니다.\n",
        "\n"
      ],
      "metadata": {
        "id": "fsgyEPZOAzzS"
      }
    }
  ]
}