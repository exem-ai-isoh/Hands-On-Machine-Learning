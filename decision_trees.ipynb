{
  "nbformat": 4,
  "nbformat_minor": 0,
  "metadata": {
    "colab": {
      "name": "decision_trees.ipynb",
      "provenance": [],
      "collapsed_sections": [],
      "authorship_tag": "ABX9TyPpjVNB8sIg7XFq5OEaboHl",
      "include_colab_link": true
    },
    "kernelspec": {
      "name": "python3",
      "display_name": "Python 3"
    },
    "language_info": {
      "name": "python"
    }
  },
  "cells": [
    {
      "cell_type": "markdown",
      "metadata": {
        "id": "view-in-github",
        "colab_type": "text"
      },
      "source": [
        "<a href=\"https://colab.research.google.com/github/exem-ai-isoh/Hands-On-Machine-Learning/blob/master/decision_trees.ipynb\" target=\"_parent\"><img src=\"https://colab.research.google.com/assets/colab-badge.svg\" alt=\"Open In Colab\"/></a>"
      ]
    },
    {
      "cell_type": "markdown",
      "source": [
        "decision tree는 결정 과정이 매우 직관적임. 이러한 모델을 화이트 박스 모델. 반면에 랜덤 포레스트나 신경망 모델은 블랙 박스 모델에 해당한다.\n",
        "\n",
        "결정 트리를 훈련시키기 위해 CART(classification and regression tree) 알고리즘을 사용한다. CART 알고리즘은 먼저 훈련 세트의 하나의 특성 k의 임계값 t를 사용하여 두 개의 서브셋으로 나눈다. 이를 반복. Greedy.\n",
        "\n",
        "최적의 트리를 찾는 것은 NP-Complete."
      ],
      "metadata": {
        "id": "TM4n_2cQJESh"
      }
    },
    {
      "cell_type": "markdown",
      "source": [
        "지니 불순도와 엔트로피는 성능이 비슷, 지니 불순도가 계산이 조금 더 빠른 대신에 가장 빈도가 높은 가지를 한쪽 가지로 고립시키는 경향이 있음.\n",
        "\n",
        "규제 매개변수, decision tree는 비파라미터 모델(훈련되지 전에 파라미터의 개수가 정해져 있지 않다. 과대적합이 발생하기 쉽다) 최소 깊이를 제한하는 것이 일반적이다. 이외에도 min_samples_split, min_samples_leaf 등의 제약을 둘 수 있다."
      ],
      "metadata": {
        "id": "WRhyBXfiX8kS"
      }
    },
    {
      "cell_type": "markdown",
      "source": [
        "decision tree는 이해하고 해석하기 쉬우며 사용하기 편하고 성능도 좋다. 하지만 몇가지 단점도 존재한다.\n",
        "- 계단 모양의 결정 경계를 만든다(모든 분할 축은 수직이다), PCA 기법은 이 문제를 해결하는 방법 중 한가지이다. \n",
        "- 훈련 데이터 내의 작은 변화에 매우 민감하다. "
      ],
      "metadata": {
        "id": "0wzJSmFKZ2vM"
      }
    },
    {
      "cell_type": "code",
      "execution_count": null,
      "metadata": {
        "id": "csmKbDYNI4m0"
      },
      "outputs": [],
      "source": [
        ""
      ]
    },
    {
      "cell_type": "markdown",
      "source": [
        "moons 데이터셋에 결정 크리를 훈련시키고 세밀하게 튜닝해보자."
      ],
      "metadata": {
        "id": "s30mjnrhdCZ2"
      }
    },
    {
      "cell_type": "code",
      "source": [
        "# load data\n",
        "\n",
        "from sklearn.datasets import make_moons\n",
        "\n",
        "X, y = make_moons(n_samples=10000, noise=0.4, random_state=42)"
      ],
      "metadata": {
        "id": "D7JM3jJGdGpY"
      },
      "execution_count": 1,
      "outputs": []
    },
    {
      "cell_type": "code",
      "source": [
        "# split data\n",
        "\n",
        "from sklearn.model_selection import train_test_split\n",
        "\n",
        "X_train, X_test, y_train, y_test = train_test_split(X, y, test_size=0.2, random_state=42)"
      ],
      "metadata": {
        "id": "iZqR53cMdKZ4"
      },
      "execution_count": 2,
      "outputs": []
    },
    {
      "cell_type": "code",
      "source": [
        "# hyper parmeter tuning\n",
        "\n",
        "from sklearn.tree import DecisionTreeClassifier\n",
        "from sklearn.model_selection import GridSearchCV\n",
        "\n",
        "params = {'max_leaf_nodes': list(range(2, 100)), 'min_samples_split': [2, 3, 4]}\n",
        "grid_search_cv = GridSearchCV(DecisionTreeClassifier(random_state=42), params, verbose=1, cv=3)\n",
        "\n",
        "grid_search_cv.fit(X_train, y_train)"
      ],
      "metadata": {
        "colab": {
          "base_uri": "https://localhost:8080/"
        },
        "id": "8t8H3qLAdT_R",
        "outputId": "52008799-ebd2-4dca-9d44-516b1bca7611"
      },
      "execution_count": 9,
      "outputs": [
        {
          "output_type": "stream",
          "name": "stdout",
          "text": [
            "Fitting 3 folds for each of 294 candidates, totalling 882 fits\n"
          ]
        },
        {
          "output_type": "execute_result",
          "data": {
            "text/plain": [
              "GridSearchCV(cv=3, estimator=DecisionTreeClassifier(random_state=42),\n",
              "             param_grid={'max_leaf_nodes': [2, 3, 4, 5, 6, 7, 8, 9, 10, 11, 12,\n",
              "                                            13, 14, 15, 16, 17, 18, 19, 20, 21,\n",
              "                                            22, 23, 24, 25, 26, 27, 28, 29, 30,\n",
              "                                            31, ...],\n",
              "                         'min_samples_split': [2, 3, 4]},\n",
              "             verbose=1)"
            ]
          },
          "metadata": {},
          "execution_count": 9
        }
      ]
    },
    {
      "cell_type": "code",
      "source": [
        "grid_search_cv.best_estimator_"
      ],
      "metadata": {
        "colab": {
          "base_uri": "https://localhost:8080/"
        },
        "id": "PFQYfittdXhx",
        "outputId": "c3b9ac54-a657-45a9-b41f-7a72303e268c"
      },
      "execution_count": 10,
      "outputs": [
        {
          "output_type": "execute_result",
          "data": {
            "text/plain": [
              "DecisionTreeClassifier(max_leaf_nodes=17, random_state=42)"
            ]
          },
          "metadata": {},
          "execution_count": 10
        }
      ]
    },
    {
      "cell_type": "code",
      "source": [
        "# train by best param.\n",
        "from sklearn.metrics import accuracy_score\n",
        "\n",
        "y_pred = grid_search_cv.predict(X_test)\n",
        "accuracy_score(y_test, y_pred)"
      ],
      "metadata": {
        "colab": {
          "base_uri": "https://localhost:8080/"
        },
        "id": "GZtQNMkBd_Xh",
        "outputId": "75ebb308-538d-4ade-ca7d-ab923ce6dd82"
      },
      "execution_count": 11,
      "outputs": [
        {
          "output_type": "execute_result",
          "data": {
            "text/plain": [
              "0.8695"
            ]
          },
          "metadata": {},
          "execution_count": 11
        }
      ]
    },
    {
      "cell_type": "code",
      "source": [
        ""
      ],
      "metadata": {
        "id": "foKo4W58eBEx"
      },
      "execution_count": null,
      "outputs": []
    }
  ]
}