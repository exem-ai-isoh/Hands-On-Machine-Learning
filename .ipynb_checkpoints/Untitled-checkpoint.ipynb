{
 "cells": [
  {
   "cell_type": "code",
   "execution_count": null,
   "id": "cc6d51f8-0207-4e04-9b5b-7f879a2374fc",
   "metadata": {},
   "outputs": [],
   "source": [
    "# for git"
   ]
  }
 ],
 "metadata": {
  "kernelspec": {
   "display_name": "Python 3 (ipykernel)",
   "language": "python",
   "name": "python3"
  },
  "language_info": {
   "codemirror_mode": {
    "name": "ipython",
    "version": 3
   },
   "file_extension": ".py",
   "mimetype": "text/x-python",
   "name": "python",
   "nbconvert_exporter": "python",
   "pygments_lexer": "ipython3",
   "version": "3.7.0"
  }
 },
 "nbformat": 4,
 "nbformat_minor": 5
}
