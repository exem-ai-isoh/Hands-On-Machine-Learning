{
  "nbformat": 4,
  "nbformat_minor": 0,
  "metadata": {
    "colab": {
      "name": "dimensionality_reduction.ipynb",
      "provenance": [],
      "collapsed_sections": [],
      "authorship_tag": "ABX9TyOjxbualxgE49yhrD5v1bfz",
      "include_colab_link": true
    },
    "kernelspec": {
      "name": "python3",
      "display_name": "Python 3"
    },
    "language_info": {
      "name": "python"
    }
  },
  "cells": [
    {
      "cell_type": "markdown",
      "metadata": {
        "id": "view-in-github",
        "colab_type": "text"
      },
      "source": [
        "<a href=\"https://colab.research.google.com/github/exem-ai-isoh/Hands-On-Machine-Learning/blob/master/dimensionality_reduction.ipynb\" target=\"_parent\"><img src=\"https://colab.research.google.com/assets/colab-badge.svg\" alt=\"Open In Colab\"/></a>"
      ]
    },
    {
      "cell_type": "code",
      "execution_count": 1,
      "metadata": {
        "id": "WpAaZUa1g6So"
      },
      "outputs": [],
      "source": [
        "# Python ≥3.5 is required\n",
        "import sys\n",
        "assert sys.version_info >= (3, 5)\n",
        "\n",
        "# Scikit-Learn ≥0.20 is required\n",
        "import sklearn\n",
        "assert sklearn.__version__ >= \"0.20\"\n",
        "\n",
        "# Common imports\n",
        "import numpy as np\n",
        "import os\n",
        "\n",
        "# to make this notebook's output stable across runs\n",
        "np.random.seed(42)\n",
        "\n",
        "# To plot pretty figures\n",
        "%matplotlib inline\n",
        "import matplotlib as mpl\n",
        "import matplotlib.pyplot as plt\n",
        "mpl.rc('axes', labelsize=14)\n",
        "mpl.rc('xtick', labelsize=12)\n",
        "mpl.rc('ytick', labelsize=12)\n",
        "\n",
        "# Where to save the figures\n",
        "PROJECT_ROOT_DIR = \".\"\n",
        "CHAPTER_ID = \"dim_reduction\"\n",
        "IMAGES_PATH = os.path.join(PROJECT_ROOT_DIR, \"images\", CHAPTER_ID)\n",
        "os.makedirs(IMAGES_PATH, exist_ok=True)\n",
        "\n",
        "def save_fig(fig_id, tight_layout=True, fig_extension=\"png\", resolution=300):\n",
        "    path = os.path.join(IMAGES_PATH, fig_id + \".\" + fig_extension)\n",
        "    print(\"Saving figure\", fig_id)\n",
        "    if tight_layout:\n",
        "        plt.tight_layout()\n",
        "    plt.savefig(path, format=fig_extension, dpi=resolution)"
      ]
    },
    {
      "cell_type": "markdown",
      "source": [
        "Exercise: Load the MNIST dataset (introduced in chapter 3) and split it into a training set and a test set (take the first 60,000 instances for training, and the remaining 10,000 for testing)."
      ],
      "metadata": {
        "id": "f4c5XPBrhVal"
      }
    },
    {
      "cell_type": "code",
      "source": [
        "# load data\n",
        "from sklearn.datasets import fetch_openml\n",
        "\n",
        "mnist = fetch_openml('mnist_784', version=1, as_frame=False)\n",
        "mnist.target = mnist.target.astype(np.uint8)"
      ],
      "metadata": {
        "id": "0BTJk9aZhdmE"
      },
      "execution_count": 3,
      "outputs": []
    },
    {
      "cell_type": "code",
      "source": [
        "X_train = mnist['data'][:60000]\n",
        "y_train = mnist['target'][:60000]\n",
        "\n",
        "X_test = mnist['data'][60000:]\n",
        "y_test = mnist['target'][60000:]"
      ],
      "metadata": {
        "id": "CKS7_1LJhCid"
      },
      "execution_count": 4,
      "outputs": []
    },
    {
      "cell_type": "markdown",
      "source": [
        "Exercise: Train a Random Forest classifier on the dataset and time how long it takes, then evaluate the resulting model on the test set."
      ],
      "metadata": {
        "id": "EuH63wYXh4ZW"
      }
    },
    {
      "cell_type": "code",
      "source": [
        "from sklearn.ensemble import RandomForestClassifier\n",
        "\n",
        "rnd_clf = RandomForestClassifier(n_estimators=100, random_state=42)"
      ],
      "metadata": {
        "id": "0maDpbhvhby8"
      },
      "execution_count": 5,
      "outputs": []
    },
    {
      "cell_type": "code",
      "source": [
        "# measure a training time\n",
        "\n",
        "import time\n",
        "\n",
        "t0 = time.time()\n",
        "rnd_clf.fit(X_train, y_train)\n",
        "t1 = time.time()"
      ],
      "metadata": {
        "id": "FCBcMKbTh6Kq"
      },
      "execution_count": 6,
      "outputs": []
    },
    {
      "cell_type": "code",
      "source": [
        "print(\"Training took {:.2f}s\".format(t1 - t0))"
      ],
      "metadata": {
        "colab": {
          "base_uri": "https://localhost:8080/"
        },
        "id": "m4tzDPE5h7Z6",
        "outputId": "e5c80e0d-9ca9-434a-8d4c-ad16b69fc7e1"
      },
      "execution_count": 7,
      "outputs": [
        {
          "output_type": "stream",
          "name": "stdout",
          "text": [
            "Training took 50.69s\n"
          ]
        }
      ]
    },
    {
      "cell_type": "code",
      "source": [
        "from sklearn.metrics import accuracy_score\n",
        "\n",
        "y_pred = rnd_clf.predict(X_test)\n",
        "accuracy_score(y_test, y_pred)"
      ],
      "metadata": {
        "colab": {
          "base_uri": "https://localhost:8080/"
        },
        "id": "35NxBcWPiBHz",
        "outputId": "61823383-5535-44c2-d4eb-a531fd59daa3"
      },
      "execution_count": 8,
      "outputs": [
        {
          "output_type": "execute_result",
          "data": {
            "text/plain": [
              "0.9705"
            ]
          },
          "metadata": {},
          "execution_count": 8
        }
      ]
    },
    {
      "cell_type": "markdown",
      "source": [
        "Exercise: Next, use PCA to reduce the dataset's dimensionality, with an explained variance ratio of 95%."
      ],
      "metadata": {
        "id": "hnjiVX6ujalS"
      }
    },
    {
      "cell_type": "code",
      "source": [
        "from sklearn.decomposition import PCA\n",
        "\n",
        "pca = PCA(n_components=0.95)\n",
        "X_train_reduced = pca.fit_transform(X_train)"
      ],
      "metadata": {
        "id": "PqPZzQdaiL4L"
      },
      "execution_count": 10,
      "outputs": []
    },
    {
      "cell_type": "markdown",
      "source": [
        "Exercise: Train a new Random Forest classifier on the reduced dataset and see how long it takes. Was training much faster?"
      ],
      "metadata": {
        "id": "ovbjIKyBj13r"
      }
    },
    {
      "cell_type": "code",
      "source": [
        "rnd_clf2 = RandomForestClassifier(n_estimators=100, random_state=42)\n",
        "t0 = time.time()\n",
        "rnd_clf2.fit(X_train_reduced, y_train)\n",
        "t1 = time.time()"
      ],
      "metadata": {
        "id": "zrlknHaBjnSb"
      },
      "execution_count": 15,
      "outputs": []
    },
    {
      "cell_type": "code",
      "source": [
        "print(\"Training took {:.2f}s\".format(t1 - t0))"
      ],
      "metadata": {
        "colab": {
          "base_uri": "https://localhost:8080/"
        },
        "id": "X6HxghICj4W7",
        "outputId": "32737873-8d57-4fc1-d7f2-6b5053c203c2"
      },
      "execution_count": 16,
      "outputs": [
        {
          "output_type": "stream",
          "name": "stdout",
          "text": [
            "Training took 111.50s\n"
          ]
        }
      ]
    },
    {
      "cell_type": "markdown",
      "source": [
        "일반적으로 PCA를 진행한 후에는 학습시간이 짧아지지만 데이터 셋의 특성에 따라 항상 그렇지는 않다. 위의 결과를 통해 PCA 이후 학습시간이 더 많은 시간이 길어짐을 확인했다. "
      ],
      "metadata": {
        "id": "Hxa7dh5Cj6I0"
      }
    },
    {
      "cell_type": "markdown",
      "source": [
        "Exercise: Next evaluate the classifier on the test set: how does it compare to the previous classifier?"
      ],
      "metadata": {
        "id": "5PPxuZD_ky63"
      }
    },
    {
      "cell_type": "code",
      "source": [
        "X_test_reduced = pca.transform(X_test)\n",
        "\n",
        "y_pred = rnd_clf2.predict(X_test_reduced)\n",
        "accuracy_score(y_test, y_pred)"
      ],
      "metadata": {
        "colab": {
          "base_uri": "https://localhost:8080/"
        },
        "id": "zmT1jmmWj5mb",
        "outputId": "05ad9154-1e56-4b18-d104-78e6cd4474d1"
      },
      "execution_count": 17,
      "outputs": [
        {
          "output_type": "execute_result",
          "data": {
            "text/plain": [
              "0.9481"
            ]
          },
          "metadata": {},
          "execution_count": 17
        }
      ]
    },
    {
      "cell_type": "markdown",
      "source": [
        "score가 떨어지는 것은 일반적인 결과다. "
      ],
      "metadata": {
        "id": "iVTHzwpgk9ad"
      }
    },
    {
      "cell_type": "code",
      "source": [
        "# softmax regression을 이용한 결과\n",
        "\n",
        "from sklearn.linear_model import LogisticRegression\n",
        "\n",
        "log_clf = LogisticRegression(multi_class=\"multinomial\", solver=\"lbfgs\", random_state=42)\n",
        "t0 = time.time()\n",
        "log_clf.fit(X_train, y_train)\n",
        "t1 = time.time()"
      ],
      "metadata": {
        "colab": {
          "base_uri": "https://localhost:8080/"
        },
        "id": "icPtzRzrk01a",
        "outputId": "ba7ee248-462e-4e83-ff8d-0cf7215349c5"
      },
      "execution_count": 18,
      "outputs": [
        {
          "output_type": "stream",
          "name": "stderr",
          "text": [
            "/usr/local/lib/python3.7/dist-packages/sklearn/linear_model/_logistic.py:818: ConvergenceWarning: lbfgs failed to converge (status=1):\n",
            "STOP: TOTAL NO. of ITERATIONS REACHED LIMIT.\n",
            "\n",
            "Increase the number of iterations (max_iter) or scale the data as shown in:\n",
            "    https://scikit-learn.org/stable/modules/preprocessing.html\n",
            "Please also refer to the documentation for alternative solver options:\n",
            "    https://scikit-learn.org/stable/modules/linear_model.html#logistic-regression\n",
            "  extra_warning_msg=_LOGISTIC_SOLVER_CONVERGENCE_MSG,\n"
          ]
        }
      ]
    },
    {
      "cell_type": "code",
      "source": [
        "print(\"Training took {:.2f}s\".format(t1 - t0))"
      ],
      "metadata": {
        "colab": {
          "base_uri": "https://localhost:8080/"
        },
        "id": "OwaZUWDulDb7",
        "outputId": "e137cc23-0ea5-4869-bb18-316531438e74"
      },
      "execution_count": 19,
      "outputs": [
        {
          "output_type": "stream",
          "name": "stdout",
          "text": [
            "Training took 53.87s\n"
          ]
        }
      ]
    },
    {
      "cell_type": "code",
      "source": [
        "y_pred = log_clf.predict(X_test)\n",
        "accuracy_score(y_test, y_pred)"
      ],
      "metadata": {
        "colab": {
          "base_uri": "https://localhost:8080/"
        },
        "id": "7HEiCKVilRTM",
        "outputId": "b80b7408-5eb6-4d51-e6b9-e6193bb59cbb"
      },
      "execution_count": 20,
      "outputs": [
        {
          "output_type": "execute_result",
          "data": {
            "text/plain": [
              "0.9255"
            ]
          },
          "metadata": {},
          "execution_count": 20
        }
      ]
    },
    {
      "cell_type": "markdown",
      "source": [
        "softmax는 랜덤포레스트보다 학습에 오랜시간이 소요되었고 결과도 나쁘다. 하지만 여기서는 PCA가 softmax regression을 얼마나 향상시킬 수 있는지 확인해본다."
      ],
      "metadata": {
        "id": "M1Emb9P7lZce"
      }
    },
    {
      "cell_type": "code",
      "source": [
        "log_clf2 = LogisticRegression(multi_class=\"multinomial\", solver=\"lbfgs\", random_state=42)\n",
        "t0 = time.time()\n",
        "log_clf2.fit(X_train_reduced, y_train)\n",
        "t1 = time.time()"
      ],
      "metadata": {
        "colab": {
          "base_uri": "https://localhost:8080/"
        },
        "id": "ooTM41V3lS3L",
        "outputId": "4f4ec4db-0762-430e-8ab9-28b5e0bc6b50"
      },
      "execution_count": 21,
      "outputs": [
        {
          "output_type": "stream",
          "name": "stderr",
          "text": [
            "/usr/local/lib/python3.7/dist-packages/sklearn/linear_model/_logistic.py:818: ConvergenceWarning: lbfgs failed to converge (status=1):\n",
            "STOP: TOTAL NO. of ITERATIONS REACHED LIMIT.\n",
            "\n",
            "Increase the number of iterations (max_iter) or scale the data as shown in:\n",
            "    https://scikit-learn.org/stable/modules/preprocessing.html\n",
            "Please also refer to the documentation for alternative solver options:\n",
            "    https://scikit-learn.org/stable/modules/linear_model.html#logistic-regression\n",
            "  extra_warning_msg=_LOGISTIC_SOLVER_CONVERGENCE_MSG,\n"
          ]
        }
      ]
    },
    {
      "cell_type": "code",
      "source": [
        "print(\"Training took {:.2f}s\".format(t1 - t0))"
      ],
      "metadata": {
        "colab": {
          "base_uri": "https://localhost:8080/"
        },
        "id": "vbluUQVElwpb",
        "outputId": "5e14c0c2-8f75-404c-e26f-c8d9c4bbd6d3"
      },
      "execution_count": 22,
      "outputs": [
        {
          "output_type": "stream",
          "name": "stdout",
          "text": [
            "Training took 16.06s\n"
          ]
        }
      ]
    },
    {
      "cell_type": "markdown",
      "source": [
        "softmax의 학습속도가 빨라졌다."
      ],
      "metadata": {
        "id": "B7QN_inil7hK"
      }
    },
    {
      "cell_type": "code",
      "source": [
        "y_pred = log_clf2.predict(X_test_reduced)\n",
        "accuracy_score(y_test, y_pred)"
      ],
      "metadata": {
        "colab": {
          "base_uri": "https://localhost:8080/"
        },
        "id": "rFd13RADlyh7",
        "outputId": "fef5e8ef-e858-473b-8791-23a8ab40977b"
      },
      "execution_count": 24,
      "outputs": [
        {
          "output_type": "execute_result",
          "data": {
            "text/plain": [
              "0.9201"
            ]
          },
          "metadata": {},
          "execution_count": 24
        }
      ]
    },
    {
      "cell_type": "code",
      "source": [
        ""
      ],
      "metadata": {
        "id": "4t_oC5_Ulzd7"
      },
      "execution_count": null,
      "outputs": []
    }
  ]
}